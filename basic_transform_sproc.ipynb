{
 "cells": [
  {
   "cell_type": "code",
   "execution_count": 1,
   "id": "890ca58c-dc62-4b28-babd-e85bd7a1b871",
   "metadata": {},
   "outputs": [],
   "source": [
    "#def train_revenue_prediction_model(session: Session, features_table: str,"
   ]
  },
  {
   "cell_type": "code",
   "execution_count": 7,
   "id": "64a82f61-2426-46d0-886d-a733d55f8f9b",
   "metadata": {},
   "outputs": [],
   "source": [
    "# Snowpark for Python\n",
    "from snowflake.snowpark.session import Session\n",
    "from snowflake.snowpark.types import IntegerType, StringType, StructType, FloatType, StructField, DateType, Variant\n",
    "from snowflake.snowpark.functions import udf, sum, col,array_construct,month,year,call_udf,lit\n",
    "from snowflake.snowpark.version import VERSION\n",
    "# Misc\n",
    "import json\n",
    "import pandas as pd"
   ]
  },
  {
   "cell_type": "code",
   "execution_count": 8,
   "id": "d933c504-2970-4eae-bfc9-30569210f466",
   "metadata": {},
   "outputs": [
    {
     "name": "stdout",
     "output_type": "stream",
     "text": [
      "User                        : GUSCONTINUAL\n",
      "Role                        : ACCOUNTADMIN\n",
      "Database                    : DWH\n",
      "Schema                      : PUBLIC\n",
      "Warehouse                   : COMPUTE_WH\n",
      "Snowflake version           : 6.30.0\n",
      "Snowpark for Python version : 0.10.0\n"
     ]
    }
   ],
   "source": [
    "# Create Snowflake Session object\n",
    "connection_parameters = json.load(open('Advertising-Spend-ROI-Prediction/connection.json'))\n",
    "session = Session.builder.configs(connection_parameters).create()\n",
    "\n",
    "snowflake_environment = session.sql('select current_user(), current_role(), current_database(), current_schema(), current_version(), current_warehouse()').collect()\n",
    "snowpark_version = VERSION\n",
    "\n",
    "# Current Environment Details\n",
    "print('User                        : {}'.format(snowflake_environment[0][0]))\n",
    "print('Role                        : {}'.format(snowflake_environment[0][1]))\n",
    "print('Database                    : {}'.format(snowflake_environment[0][2]))\n",
    "print('Schema                      : {}'.format(snowflake_environment[0][3]))\n",
    "print('Warehouse                   : {}'.format(snowflake_environment[0][5]))\n",
    "print('Snowflake version           : {}'.format(snowflake_environment[0][4]))\n",
    "print('Snowpark for Python version : {}.{}.{}'.format(snowpark_version[0],snowpark_version[1],snowpark_version[2]))"
   ]
  },
  {
   "cell_type": "code",
   "execution_count": 15,
   "id": "75e4f29b-98aa-4d36-ba8d-dc27d5dae4ad",
   "metadata": {},
   "outputs": [],
   "source": [
    "def snow_quantile(session: Session, features_table: str, out_table: str) -> Variant:\n",
    "    df = session.table(features_table).to_pandas()\n",
    "    quantile_list = [0, .25, .5, .75, 1.]\n",
    "    quantiles = df['TOTAL_TIME_SPENT_ON_WEBSITE'].quantile(quantile_list)\n",
    "    df['TIME_ON_WEBSITE_QUANTILE_RANGE'] = pd.qcut(\n",
    "                                            df['TOTAL_TIME_SPENT_ON_WEBSITE'], \n",
    "                                            q=quantile_list)\n",
    "    quantile_labels = ['1Q', '2Q', '3Q', '4Q']\n",
    "    df['TIME_ON_WEBSITE_QUANTILE_LABELS'] = pd.qcut(\n",
    "                                            df['TOTAL_TIME_SPENT_ON_WEBSITE'], \n",
    "                                            q=quantile_list,       \n",
    "                                            labels=quantile_labels)\n",
    "    df = df.drop('TIME_ON_WEBSITE_QUANTILE_RANGE', axis=1)\n",
    "    foo_tbl = session.create_dataframe(df)\n",
    "    foo_tbl.write.mode('overwrite').save_as_table(out_table)\n",
    "    \n",
    "    return str(df[['TOTAL_TIME_SPENT_ON_WEBSITE','TIME_ON_WEBSITE_QUANTILE_LABELS']].head())"
   ]
  },
  {
   "cell_type": "code",
   "execution_count": 16,
   "id": "e99dff9f-5a6c-4441-be07-7631a480b664",
   "metadata": {},
   "outputs": [
    {
     "data": {
      "text/plain": [
       "<snowflake.snowpark.stored_procedure.StoredProcedure at 0x7fca096b1850>"
      ]
     },
     "execution_count": 16,
     "metadata": {},
     "output_type": "execute_result"
    }
   ],
   "source": [
    "session.sproc.register(func=snow_quantile,\n",
    "                       name=\"quantile_df_test\",\n",
    "                       packages=['snowflake-snowpark-python','pandas'],\n",
    "                       is_permanent=True,\n",
    "                       stage_location=\"@dash_sprocs\",\n",
    "                       replace=True)"
   ]
  },
  {
   "cell_type": "code",
   "execution_count": 17,
   "id": "87c46730-0f85-4ef5-850a-1e6e86599cfb",
   "metadata": {},
   "outputs": [
    {
     "name": "stdout",
     "output_type": "stream",
     "text": [
      "\"   TOTAL_TIME_SPENT_ON_WEBSITE TIME_ON_WEBSITE_QUANTILE_LABELS\\n0                            0                              1Q\\n1                          674                              3Q\\n2                         1532                              4Q\\n3                          305                              3Q\\n4                         1428                              4Q\"\n"
     ]
    }
   ],
   "source": [
    "print(session.call('quantile_df_test','LEAD_SCORING_Q', 'LEAD_SCORING_K'))"
   ]
  },
  {
   "cell_type": "code",
   "execution_count": null,
   "id": "1e9e281c-e441-4469-ab0e-6a5d48fc32f5",
   "metadata": {},
   "outputs": [],
   "source": []
  }
 ],
 "metadata": {
  "kernelspec": {
   "display_name": "Python 3 (ipykernel)",
   "language": "python",
   "name": "python3"
  },
  "language_info": {
   "codemirror_mode": {
    "name": "ipython",
    "version": 3
   },
   "file_extension": ".py",
   "mimetype": "text/x-python",
   "name": "python",
   "nbconvert_exporter": "python",
   "pygments_lexer": "ipython3",
   "version": "3.8.13"
  }
 },
 "nbformat": 4,
 "nbformat_minor": 5
}
