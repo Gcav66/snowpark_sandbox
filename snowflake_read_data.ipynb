{
 "cells": [
  {
   "cell_type": "code",
   "execution_count": 1,
   "id": "fdaa5735",
   "metadata": {},
   "outputs": [
    {
     "data": {
      "text/plain": [
       "True"
      ]
     },
     "execution_count": 1,
     "metadata": {},
     "output_type": "execute_result"
    }
   ],
   "source": [
    "from dotenv import load_dotenv\n",
    "import os \n",
    "\n",
    "load_dotenv()"
   ]
  },
  {
   "cell_type": "code",
   "execution_count": 2,
   "id": "7634318d",
   "metadata": {},
   "outputs": [],
   "source": [
    "import pandas as pd"
   ]
  },
  {
   "cell_type": "code",
   "execution_count": 2,
   "id": "3c00e54a",
   "metadata": {},
   "outputs": [],
   "source": [
    "from snowflake.snowpark import Session"
   ]
  },
  {
   "cell_type": "code",
   "execution_count": 3,
   "id": "c244f8e1",
   "metadata": {},
   "outputs": [],
   "source": [
    "connection_parameters = {\n",
    "    \"account\": os.environ[\"snowflake_account\"],\n",
    "    \"user\": os.environ[\"snowflake_user\"],\n",
    "    \"password\": os.environ[\"snowflake_password\"],\n",
    "    \"role\": os.environ[\"snowflake_user_role\"],\n",
    "    \"warehouse\": os.environ[\"snowflake_warehouse\"],\n",
    "    \"database\": os.environ[\"snowflake_database\"],\n",
    "    \"schema\": os.environ[\"snowflake_schema\"]\n",
    "}\n",
    "\n",
    "session = Session.builder.configs(connection_parameters).create()"
   ]
  },
  {
   "cell_type": "code",
   "execution_count": 4,
   "id": "f9dc2a72",
   "metadata": {
    "collapsed": true,
    "jupyter": {
     "outputs_hidden": true
    }
   },
   "outputs": [
    {
     "data": {
      "text/plain": [
       "[Row(PROSPECT_ID='7927b2df-8bba-4d29-b9a2-b6e0beafe620', LEAD_NUMBER=660737, LEAD_ORIGIN='API', LEAD_SOURCE='Olark Chat', DO_NOT_EMAIL=False, DO_NOT_CALL=False, CONVERTED=0, TOTALVISITS=0, TOTAL_TIME_SPENT_ON_WEBSITE=0, PAGE_VIEWS_PER_VISIT=0.0, LAST_ACTIVITY='Page Visited on Website', COUNTRY=None, SPECIALIZATION='Select', HOW_DID_YOU_HEAR_ABOUT_X_EDUCATION='Select', WHAT_IS_YOUR_CURRENT_OCCUPATION='Unemployed', WHAT_MATTERS_MOST_TO_YOU_IN_CHOOSING_A_COURSE='Better Career Prospects', SEARCH=False, MAGAZINE=False, NEWSPAPER_ARTICLE=False, X_EDUCATION_FORUMS=False, NEWSPAPER=False, DIGITAL_ADVERTISEMENT=False, THROUGH_RECOMMENDATIONS=False, RECEIVE_MORE_UPDATES_ABOUT_OUR_COURSES=False, TAGS='Interested in other courses', LEAD_QUALITY='Low in Relevance', UPDATE_ME_ON_SUPPLY_CHAIN_CONTENT=False, GET_UPDATES_ON_DM_CONTENT=False, LEAD_PROFILE='Select', CITY='Select', ASYMMETRIQUE_ACTIVITY_INDEX='02.Medium', ASYMMETRIQUE_PROFILE_INDEX='02.Medium', ASYMMETRIQUE_ACTIVITY_SCORE=15, ASYMMETRIQUE_PROFILE_SCORE=15, I_AGREE_TO_PAY_THE_AMOUNT_THROUGH_CHEQUE=False, A_FREE_COPY_OF_MASTERING_THE_INTERVIEW=False, LAST_NOTABLE_ACTIVITY='Modified'),\n",
       " Row(PROSPECT_ID='2a272436-5132-4136-86fa-dcc88c88f482', LEAD_NUMBER=660728, LEAD_ORIGIN='API', LEAD_SOURCE='Organic Search', DO_NOT_EMAIL=False, DO_NOT_CALL=False, CONVERTED=0, TOTALVISITS=5, TOTAL_TIME_SPENT_ON_WEBSITE=674, PAGE_VIEWS_PER_VISIT=2.5, LAST_ACTIVITY='Email Opened', COUNTRY='India', SPECIALIZATION='Select', HOW_DID_YOU_HEAR_ABOUT_X_EDUCATION='Select', WHAT_IS_YOUR_CURRENT_OCCUPATION='Unemployed', WHAT_MATTERS_MOST_TO_YOU_IN_CHOOSING_A_COURSE='Better Career Prospects', SEARCH=False, MAGAZINE=False, NEWSPAPER_ARTICLE=False, X_EDUCATION_FORUMS=False, NEWSPAPER=False, DIGITAL_ADVERTISEMENT=False, THROUGH_RECOMMENDATIONS=False, RECEIVE_MORE_UPDATES_ABOUT_OUR_COURSES=False, TAGS='Ringing', LEAD_QUALITY=None, UPDATE_ME_ON_SUPPLY_CHAIN_CONTENT=False, GET_UPDATES_ON_DM_CONTENT=False, LEAD_PROFILE='Select', CITY='Select', ASYMMETRIQUE_ACTIVITY_INDEX='02.Medium', ASYMMETRIQUE_PROFILE_INDEX='02.Medium', ASYMMETRIQUE_ACTIVITY_SCORE=15, ASYMMETRIQUE_PROFILE_SCORE=15, I_AGREE_TO_PAY_THE_AMOUNT_THROUGH_CHEQUE=False, A_FREE_COPY_OF_MASTERING_THE_INTERVIEW=False, LAST_NOTABLE_ACTIVITY='Email Opened'),\n",
       " Row(PROSPECT_ID='8cc8c611-a219-4f35-ad23-fdfd2656bd8a', LEAD_NUMBER=660727, LEAD_ORIGIN='Landing Page Submission', LEAD_SOURCE='Direct Traffic', DO_NOT_EMAIL=False, DO_NOT_CALL=False, CONVERTED=1, TOTALVISITS=2, TOTAL_TIME_SPENT_ON_WEBSITE=1532, PAGE_VIEWS_PER_VISIT=2.0, LAST_ACTIVITY='Email Opened', COUNTRY='India', SPECIALIZATION='Business Administration', HOW_DID_YOU_HEAR_ABOUT_X_EDUCATION='Select', WHAT_IS_YOUR_CURRENT_OCCUPATION='Student', WHAT_MATTERS_MOST_TO_YOU_IN_CHOOSING_A_COURSE='Better Career Prospects', SEARCH=False, MAGAZINE=False, NEWSPAPER_ARTICLE=False, X_EDUCATION_FORUMS=False, NEWSPAPER=False, DIGITAL_ADVERTISEMENT=False, THROUGH_RECOMMENDATIONS=False, RECEIVE_MORE_UPDATES_ABOUT_OUR_COURSES=False, TAGS='Will revert after reading the email', LEAD_QUALITY='Might be', UPDATE_ME_ON_SUPPLY_CHAIN_CONTENT=False, GET_UPDATES_ON_DM_CONTENT=False, LEAD_PROFILE='Potential Lead', CITY='Mumbai', ASYMMETRIQUE_ACTIVITY_INDEX='02.Medium', ASYMMETRIQUE_PROFILE_INDEX='01.High', ASYMMETRIQUE_ACTIVITY_SCORE=14, ASYMMETRIQUE_PROFILE_SCORE=20, I_AGREE_TO_PAY_THE_AMOUNT_THROUGH_CHEQUE=False, A_FREE_COPY_OF_MASTERING_THE_INTERVIEW=True, LAST_NOTABLE_ACTIVITY='Email Opened'),\n",
       " Row(PROSPECT_ID='0cc2df48-7cf4-4e39-9de9-19797f9b38cc', LEAD_NUMBER=660719, LEAD_ORIGIN='Landing Page Submission', LEAD_SOURCE='Direct Traffic', DO_NOT_EMAIL=False, DO_NOT_CALL=False, CONVERTED=0, TOTALVISITS=1, TOTAL_TIME_SPENT_ON_WEBSITE=305, PAGE_VIEWS_PER_VISIT=1.0, LAST_ACTIVITY='Unreachable', COUNTRY='India', SPECIALIZATION='Media and Advertising', HOW_DID_YOU_HEAR_ABOUT_X_EDUCATION='Word Of Mouth', WHAT_IS_YOUR_CURRENT_OCCUPATION='Unemployed', WHAT_MATTERS_MOST_TO_YOU_IN_CHOOSING_A_COURSE='Better Career Prospects', SEARCH=False, MAGAZINE=False, NEWSPAPER_ARTICLE=False, X_EDUCATION_FORUMS=False, NEWSPAPER=False, DIGITAL_ADVERTISEMENT=False, THROUGH_RECOMMENDATIONS=False, RECEIVE_MORE_UPDATES_ABOUT_OUR_COURSES=False, TAGS='Ringing', LEAD_QUALITY='Not Sure', UPDATE_ME_ON_SUPPLY_CHAIN_CONTENT=False, GET_UPDATES_ON_DM_CONTENT=False, LEAD_PROFILE='Select', CITY='Mumbai', ASYMMETRIQUE_ACTIVITY_INDEX='02.Medium', ASYMMETRIQUE_PROFILE_INDEX='01.High', ASYMMETRIQUE_ACTIVITY_SCORE=13, ASYMMETRIQUE_PROFILE_SCORE=17, I_AGREE_TO_PAY_THE_AMOUNT_THROUGH_CHEQUE=False, A_FREE_COPY_OF_MASTERING_THE_INTERVIEW=False, LAST_NOTABLE_ACTIVITY='Modified'),\n",
       " Row(PROSPECT_ID='3256f628-e534-4826-9d63-4a8b88782852', LEAD_NUMBER=660681, LEAD_ORIGIN='Landing Page Submission', LEAD_SOURCE='Google', DO_NOT_EMAIL=False, DO_NOT_CALL=False, CONVERTED=1, TOTALVISITS=2, TOTAL_TIME_SPENT_ON_WEBSITE=1428, PAGE_VIEWS_PER_VISIT=1.0, LAST_ACTIVITY='Converted to Lead', COUNTRY='India', SPECIALIZATION='Select', HOW_DID_YOU_HEAR_ABOUT_X_EDUCATION='Other', WHAT_IS_YOUR_CURRENT_OCCUPATION='Unemployed', WHAT_MATTERS_MOST_TO_YOU_IN_CHOOSING_A_COURSE='Better Career Prospects', SEARCH=False, MAGAZINE=False, NEWSPAPER_ARTICLE=False, X_EDUCATION_FORUMS=False, NEWSPAPER=False, DIGITAL_ADVERTISEMENT=False, THROUGH_RECOMMENDATIONS=False, RECEIVE_MORE_UPDATES_ABOUT_OUR_COURSES=False, TAGS='Will revert after reading the email', LEAD_QUALITY='Might be', UPDATE_ME_ON_SUPPLY_CHAIN_CONTENT=False, GET_UPDATES_ON_DM_CONTENT=False, LEAD_PROFILE='Select', CITY='Mumbai', ASYMMETRIQUE_ACTIVITY_INDEX='02.Medium', ASYMMETRIQUE_PROFILE_INDEX='01.High', ASYMMETRIQUE_ACTIVITY_SCORE=15, ASYMMETRIQUE_PROFILE_SCORE=18, I_AGREE_TO_PAY_THE_AMOUNT_THROUGH_CHEQUE=False, A_FREE_COPY_OF_MASTERING_THE_INTERVIEW=False, LAST_NOTABLE_ACTIVITY='Modified'),\n",
       " Row(PROSPECT_ID='2058ef08-2858-443e-a01f-a9237db2f5ce', LEAD_NUMBER=660680, LEAD_ORIGIN='API', LEAD_SOURCE='Olark Chat', DO_NOT_EMAIL=False, DO_NOT_CALL=False, CONVERTED=0, TOTALVISITS=0, TOTAL_TIME_SPENT_ON_WEBSITE=0, PAGE_VIEWS_PER_VISIT=0.0, LAST_ACTIVITY='Olark Chat Conversation', COUNTRY=None, SPECIALIZATION=None, HOW_DID_YOU_HEAR_ABOUT_X_EDUCATION=None, WHAT_IS_YOUR_CURRENT_OCCUPATION=None, WHAT_MATTERS_MOST_TO_YOU_IN_CHOOSING_A_COURSE=None, SEARCH=False, MAGAZINE=False, NEWSPAPER_ARTICLE=False, X_EDUCATION_FORUMS=False, NEWSPAPER=False, DIGITAL_ADVERTISEMENT=False, THROUGH_RECOMMENDATIONS=False, RECEIVE_MORE_UPDATES_ABOUT_OUR_COURSES=False, TAGS=None, LEAD_QUALITY=None, UPDATE_ME_ON_SUPPLY_CHAIN_CONTENT=False, GET_UPDATES_ON_DM_CONTENT=False, LEAD_PROFILE=None, CITY=None, ASYMMETRIQUE_ACTIVITY_INDEX='01.High', ASYMMETRIQUE_PROFILE_INDEX='02.Medium', ASYMMETRIQUE_ACTIVITY_SCORE=17, ASYMMETRIQUE_PROFILE_SCORE=15, I_AGREE_TO_PAY_THE_AMOUNT_THROUGH_CHEQUE=False, A_FREE_COPY_OF_MASTERING_THE_INTERVIEW=False, LAST_NOTABLE_ACTIVITY='Modified'),\n",
       " Row(PROSPECT_ID='9fae7df4-169d-489b-afe4-0f3d752542ed', LEAD_NUMBER=660673, LEAD_ORIGIN='Landing Page Submission', LEAD_SOURCE='Google', DO_NOT_EMAIL=False, DO_NOT_CALL=False, CONVERTED=1, TOTALVISITS=2, TOTAL_TIME_SPENT_ON_WEBSITE=1640, PAGE_VIEWS_PER_VISIT=2.0, LAST_ACTIVITY='Email Opened', COUNTRY='India', SPECIALIZATION='Supply Chain Management', HOW_DID_YOU_HEAR_ABOUT_X_EDUCATION='Online Search', WHAT_IS_YOUR_CURRENT_OCCUPATION='Unemployed', WHAT_MATTERS_MOST_TO_YOU_IN_CHOOSING_A_COURSE='Better Career Prospects', SEARCH=False, MAGAZINE=False, NEWSPAPER_ARTICLE=False, X_EDUCATION_FORUMS=False, NEWSPAPER=False, DIGITAL_ADVERTISEMENT=False, THROUGH_RECOMMENDATIONS=False, RECEIVE_MORE_UPDATES_ABOUT_OUR_COURSES=False, TAGS='Will revert after reading the email', LEAD_QUALITY='Low in Relevance', UPDATE_ME_ON_SUPPLY_CHAIN_CONTENT=False, GET_UPDATES_ON_DM_CONTENT=False, LEAD_PROFILE='Potential Lead', CITY='Mumbai', ASYMMETRIQUE_ACTIVITY_INDEX='02.Medium', ASYMMETRIQUE_PROFILE_INDEX='01.High', ASYMMETRIQUE_ACTIVITY_SCORE=14, ASYMMETRIQUE_PROFILE_SCORE=20, I_AGREE_TO_PAY_THE_AMOUNT_THROUGH_CHEQUE=False, A_FREE_COPY_OF_MASTERING_THE_INTERVIEW=False, LAST_NOTABLE_ACTIVITY='Modified'),\n",
       " Row(PROSPECT_ID='20ef72a2-fb3b-45e0-924e-551c5fa59095', LEAD_NUMBER=660664, LEAD_ORIGIN='API', LEAD_SOURCE='Olark Chat', DO_NOT_EMAIL=False, DO_NOT_CALL=False, CONVERTED=0, TOTALVISITS=0, TOTAL_TIME_SPENT_ON_WEBSITE=0, PAGE_VIEWS_PER_VISIT=0.0, LAST_ACTIVITY='Olark Chat Conversation', COUNTRY=None, SPECIALIZATION=None, HOW_DID_YOU_HEAR_ABOUT_X_EDUCATION=None, WHAT_IS_YOUR_CURRENT_OCCUPATION=None, WHAT_MATTERS_MOST_TO_YOU_IN_CHOOSING_A_COURSE=None, SEARCH=False, MAGAZINE=False, NEWSPAPER_ARTICLE=False, X_EDUCATION_FORUMS=False, NEWSPAPER=False, DIGITAL_ADVERTISEMENT=False, THROUGH_RECOMMENDATIONS=False, RECEIVE_MORE_UPDATES_ABOUT_OUR_COURSES=False, TAGS=None, LEAD_QUALITY=None, UPDATE_ME_ON_SUPPLY_CHAIN_CONTENT=False, GET_UPDATES_ON_DM_CONTENT=False, LEAD_PROFILE=None, CITY=None, ASYMMETRIQUE_ACTIVITY_INDEX='02.Medium', ASYMMETRIQUE_PROFILE_INDEX='02.Medium', ASYMMETRIQUE_ACTIVITY_SCORE=15, ASYMMETRIQUE_PROFILE_SCORE=15, I_AGREE_TO_PAY_THE_AMOUNT_THROUGH_CHEQUE=False, A_FREE_COPY_OF_MASTERING_THE_INTERVIEW=False, LAST_NOTABLE_ACTIVITY='Modified'),\n",
       " Row(PROSPECT_ID='cfa0128c-a0da-4656-9d47-0aa4e67bf690', LEAD_NUMBER=660624, LEAD_ORIGIN='Landing Page Submission', LEAD_SOURCE='Direct Traffic', DO_NOT_EMAIL=False, DO_NOT_CALL=False, CONVERTED=0, TOTALVISITS=2, TOTAL_TIME_SPENT_ON_WEBSITE=71, PAGE_VIEWS_PER_VISIT=2.0, LAST_ACTIVITY='Email Opened', COUNTRY='India', SPECIALIZATION='IT Projects Management', HOW_DID_YOU_HEAR_ABOUT_X_EDUCATION=None, WHAT_IS_YOUR_CURRENT_OCCUPATION=None, WHAT_MATTERS_MOST_TO_YOU_IN_CHOOSING_A_COURSE=None, SEARCH=False, MAGAZINE=False, NEWSPAPER_ARTICLE=False, X_EDUCATION_FORUMS=False, NEWSPAPER=False, DIGITAL_ADVERTISEMENT=False, THROUGH_RECOMMENDATIONS=False, RECEIVE_MORE_UPDATES_ABOUT_OUR_COURSES=False, TAGS=None, LEAD_QUALITY=None, UPDATE_ME_ON_SUPPLY_CHAIN_CONTENT=False, GET_UPDATES_ON_DM_CONTENT=False, LEAD_PROFILE=None, CITY='Thane & Outskirts', ASYMMETRIQUE_ACTIVITY_INDEX='02.Medium', ASYMMETRIQUE_PROFILE_INDEX='02.Medium', ASYMMETRIQUE_ACTIVITY_SCORE=14, ASYMMETRIQUE_PROFILE_SCORE=14, I_AGREE_TO_PAY_THE_AMOUNT_THROUGH_CHEQUE=False, A_FREE_COPY_OF_MASTERING_THE_INTERVIEW=True, LAST_NOTABLE_ACTIVITY='Email Opened'),\n",
       " Row(PROSPECT_ID='af465dfc-7204-4130-9e05-33231863c4b5', LEAD_NUMBER=660616, LEAD_ORIGIN='API', LEAD_SOURCE='Google', DO_NOT_EMAIL=False, DO_NOT_CALL=False, CONVERTED=0, TOTALVISITS=4, TOTAL_TIME_SPENT_ON_WEBSITE=58, PAGE_VIEWS_PER_VISIT=4.0, LAST_ACTIVITY='Email Opened', COUNTRY='India', SPECIALIZATION='Finance Management', HOW_DID_YOU_HEAR_ABOUT_X_EDUCATION='Word Of Mouth', WHAT_IS_YOUR_CURRENT_OCCUPATION=None, WHAT_MATTERS_MOST_TO_YOU_IN_CHOOSING_A_COURSE=None, SEARCH=False, MAGAZINE=False, NEWSPAPER_ARTICLE=False, X_EDUCATION_FORUMS=False, NEWSPAPER=False, DIGITAL_ADVERTISEMENT=False, THROUGH_RECOMMENDATIONS=False, RECEIVE_MORE_UPDATES_ABOUT_OUR_COURSES=False, TAGS=None, LEAD_QUALITY=None, UPDATE_ME_ON_SUPPLY_CHAIN_CONTENT=False, GET_UPDATES_ON_DM_CONTENT=False, LEAD_PROFILE=None, CITY='Mumbai', ASYMMETRIQUE_ACTIVITY_INDEX='02.Medium', ASYMMETRIQUE_PROFILE_INDEX='02.Medium', ASYMMETRIQUE_ACTIVITY_SCORE=13, ASYMMETRIQUE_PROFILE_SCORE=16, I_AGREE_TO_PAY_THE_AMOUNT_THROUGH_CHEQUE=False, A_FREE_COPY_OF_MASTERING_THE_INTERVIEW=False, LAST_NOTABLE_ACTIVITY='Email Opened')]"
      ]
     },
     "execution_count": 4,
     "metadata": {},
     "output_type": "execute_result"
    }
   ],
   "source": [
    "session.sql('SELECT * FROM LEAD_SCORING LIMIT 10').collect()"
   ]
  },
  {
   "cell_type": "code",
   "execution_count": 5,
   "id": "5a458135",
   "metadata": {},
   "outputs": [],
   "source": [
    "leads = session.table(\"LEAD_SCORING\")"
   ]
  },
  {
   "cell_type": "code",
   "execution_count": 6,
   "id": "8e479332",
   "metadata": {},
   "outputs": [
    {
     "data": {
      "text/plain": [
       "snowflake.snowpark.table.Table"
      ]
     },
     "execution_count": 6,
     "metadata": {},
     "output_type": "execute_result"
    }
   ],
   "source": [
    "type(leads)"
   ]
  },
  {
   "cell_type": "code",
   "execution_count": 7,
   "id": "95328731",
   "metadata": {
    "collapsed": true,
    "jupyter": {
     "outputs_hidden": true
    }
   },
   "outputs": [
    {
     "name": "stdout",
     "output_type": "stream",
     "text": [
      "------------------------------------------------------------------------------------------------------------------------------------------------------------------------------------------------------------------------------------------------------------------------------------------------------------------------------------------------------------------------------------------------------------------------------------------------------------------------------------------------------------------------------------------------------------------------------------------------------------------------------------------------------------------------------------------------------------------------------------------------------------------------------------------------------------------------------------------------------------------------------------------------------------------------------------------------------------------------------------------------------------------------------\n",
      "|\"PROSPECT_ID\"                         |\"LEAD_NUMBER\"  |\"LEAD_ORIGIN\"            |\"LEAD_SOURCE\"   |\"DO_NOT_EMAIL\"  |\"DO_NOT_CALL\"  |\"CONVERTED\"  |\"TOTALVISITS\"  |\"TOTAL_TIME_SPENT_ON_WEBSITE\"  |\"PAGE_VIEWS_PER_VISIT\"  |\"LAST_ACTIVITY\"          |\"COUNTRY\"  |\"SPECIALIZATION\"         |\"HOW_DID_YOU_HEAR_ABOUT_X_EDUCATION\"  |\"WHAT_IS_YOUR_CURRENT_OCCUPATION\"  |\"WHAT_MATTERS_MOST_TO_YOU_IN_CHOOSING_A_COURSE\"  |\"SEARCH\"  |\"MAGAZINE\"  |\"NEWSPAPER_ARTICLE\"  |\"X_EDUCATION_FORUMS\"  |\"NEWSPAPER\"  |\"DIGITAL_ADVERTISEMENT\"  |\"THROUGH_RECOMMENDATIONS\"  |\"RECEIVE_MORE_UPDATES_ABOUT_OUR_COURSES\"  |\"TAGS\"                               |\"LEAD_QUALITY\"    |\"UPDATE_ME_ON_SUPPLY_CHAIN_CONTENT\"  |\"GET_UPDATES_ON_DM_CONTENT\"  |\"LEAD_PROFILE\"  |\"CITY\"             |\"ASYMMETRIQUE_ACTIVITY_INDEX\"  |\"ASYMMETRIQUE_PROFILE_INDEX\"  |\"ASYMMETRIQUE_ACTIVITY_SCORE\"  |\"ASYMMETRIQUE_PROFILE_SCORE\"  |\"I_AGREE_TO_PAY_THE_AMOUNT_THROUGH_CHEQUE\"  |\"A_FREE_COPY_OF_MASTERING_THE_INTERVIEW\"  |\"LAST_NOTABLE_ACTIVITY\"  |\n",
      "------------------------------------------------------------------------------------------------------------------------------------------------------------------------------------------------------------------------------------------------------------------------------------------------------------------------------------------------------------------------------------------------------------------------------------------------------------------------------------------------------------------------------------------------------------------------------------------------------------------------------------------------------------------------------------------------------------------------------------------------------------------------------------------------------------------------------------------------------------------------------------------------------------------------------------------------------------------------------------------------------------------------------\n",
      "|7927b2df-8bba-4d29-b9a2-b6e0beafe620  |660737         |API                      |Olark Chat      |False           |False          |0            |0              |0                              |0.0                     |Page Visited on Website  |NULL       |Select                   |Select                                |Unemployed                         |Better Career Prospects                          |False     |False       |False                |False                 |False        |False                    |False                      |False                                     |Interested in other courses          |Low in Relevance  |False                                |False                        |Select          |Select             |02.Medium                      |02.Medium                     |15                             |15                            |False                                       |False                                     |Modified                 |\n",
      "|2a272436-5132-4136-86fa-dcc88c88f482  |660728         |API                      |Organic Search  |False           |False          |0            |5              |674                            |2.5                     |Email Opened             |India      |Select                   |Select                                |Unemployed                         |Better Career Prospects                          |False     |False       |False                |False                 |False        |False                    |False                      |False                                     |Ringing                              |NULL              |False                                |False                        |Select          |Select             |02.Medium                      |02.Medium                     |15                             |15                            |False                                       |False                                     |Email Opened             |\n",
      "|8cc8c611-a219-4f35-ad23-fdfd2656bd8a  |660727         |Landing Page Submission  |Direct Traffic  |False           |False          |1            |2              |1532                           |2.0                     |Email Opened             |India      |Business Administration  |Select                                |Student                            |Better Career Prospects                          |False     |False       |False                |False                 |False        |False                    |False                      |False                                     |Will revert after reading the email  |Might be          |False                                |False                        |Potential Lead  |Mumbai             |02.Medium                      |01.High                       |14                             |20                            |False                                       |True                                      |Email Opened             |\n",
      "|0cc2df48-7cf4-4e39-9de9-19797f9b38cc  |660719         |Landing Page Submission  |Direct Traffic  |False           |False          |0            |1              |305                            |1.0                     |Unreachable              |India      |Media and Advertising    |Word Of Mouth                         |Unemployed                         |Better Career Prospects                          |False     |False       |False                |False                 |False        |False                    |False                      |False                                     |Ringing                              |Not Sure          |False                                |False                        |Select          |Mumbai             |02.Medium                      |01.High                       |13                             |17                            |False                                       |False                                     |Modified                 |\n",
      "|3256f628-e534-4826-9d63-4a8b88782852  |660681         |Landing Page Submission  |Google          |False           |False          |1            |2              |1428                           |1.0                     |Converted to Lead        |India      |Select                   |Other                                 |Unemployed                         |Better Career Prospects                          |False     |False       |False                |False                 |False        |False                    |False                      |False                                     |Will revert after reading the email  |Might be          |False                                |False                        |Select          |Mumbai             |02.Medium                      |01.High                       |15                             |18                            |False                                       |False                                     |Modified                 |\n",
      "|2058ef08-2858-443e-a01f-a9237db2f5ce  |660680         |API                      |Olark Chat      |False           |False          |0            |0              |0                              |0.0                     |Olark Chat Conversation  |NULL       |NULL                     |NULL                                  |NULL                               |NULL                                             |False     |False       |False                |False                 |False        |False                    |False                      |False                                     |NULL                                 |NULL              |False                                |False                        |NULL            |NULL               |01.High                        |02.Medium                     |17                             |15                            |False                                       |False                                     |Modified                 |\n",
      "|9fae7df4-169d-489b-afe4-0f3d752542ed  |660673         |Landing Page Submission  |Google          |False           |False          |1            |2              |1640                           |2.0                     |Email Opened             |India      |Supply Chain Management  |Online Search                         |Unemployed                         |Better Career Prospects                          |False     |False       |False                |False                 |False        |False                    |False                      |False                                     |Will revert after reading the email  |Low in Relevance  |False                                |False                        |Potential Lead  |Mumbai             |02.Medium                      |01.High                       |14                             |20                            |False                                       |False                                     |Modified                 |\n",
      "|20ef72a2-fb3b-45e0-924e-551c5fa59095  |660664         |API                      |Olark Chat      |False           |False          |0            |0              |0                              |0.0                     |Olark Chat Conversation  |NULL       |NULL                     |NULL                                  |NULL                               |NULL                                             |False     |False       |False                |False                 |False        |False                    |False                      |False                                     |NULL                                 |NULL              |False                                |False                        |NULL            |NULL               |02.Medium                      |02.Medium                     |15                             |15                            |False                                       |False                                     |Modified                 |\n",
      "|cfa0128c-a0da-4656-9d47-0aa4e67bf690  |660624         |Landing Page Submission  |Direct Traffic  |False           |False          |0            |2              |71                             |2.0                     |Email Opened             |India      |IT Projects Management   |NULL                                  |NULL                               |NULL                                             |False     |False       |False                |False                 |False        |False                    |False                      |False                                     |NULL                                 |NULL              |False                                |False                        |NULL            |Thane & Outskirts  |02.Medium                      |02.Medium                     |14                             |14                            |False                                       |True                                      |Email Opened             |\n",
      "|af465dfc-7204-4130-9e05-33231863c4b5  |660616         |API                      |Google          |False           |False          |0            |4              |58                             |4.0                     |Email Opened             |India      |Finance Management       |Word Of Mouth                         |NULL                               |NULL                                             |False     |False       |False                |False                 |False        |False                    |False                      |False                                     |NULL                                 |NULL              |False                                |False                        |NULL            |Mumbai             |02.Medium                      |02.Medium                     |13                             |16                            |False                                       |False                                     |Email Opened             |\n",
      "------------------------------------------------------------------------------------------------------------------------------------------------------------------------------------------------------------------------------------------------------------------------------------------------------------------------------------------------------------------------------------------------------------------------------------------------------------------------------------------------------------------------------------------------------------------------------------------------------------------------------------------------------------------------------------------------------------------------------------------------------------------------------------------------------------------------------------------------------------------------------------------------------------------------------------------------------------------------------------------------------------------------------\n",
      "\n"
     ]
    }
   ],
   "source": [
    "leads.show()"
   ]
  },
  {
   "cell_type": "code",
   "execution_count": 9,
   "id": "a668c737",
   "metadata": {},
   "outputs": [],
   "source": [
    "df = leads.to_pandas()"
   ]
  },
  {
   "cell_type": "code",
   "execution_count": 10,
   "id": "b25222e3",
   "metadata": {},
   "outputs": [
    {
     "data": {
      "text/html": [
       "<div>\n",
       "<style scoped>\n",
       "    .dataframe tbody tr th:only-of-type {\n",
       "        vertical-align: middle;\n",
       "    }\n",
       "\n",
       "    .dataframe tbody tr th {\n",
       "        vertical-align: top;\n",
       "    }\n",
       "\n",
       "    .dataframe thead th {\n",
       "        text-align: right;\n",
       "    }\n",
       "</style>\n",
       "<table border=\"1\" class=\"dataframe\">\n",
       "  <thead>\n",
       "    <tr style=\"text-align: right;\">\n",
       "      <th></th>\n",
       "      <th>PROSPECT_ID</th>\n",
       "      <th>LEAD_NUMBER</th>\n",
       "      <th>LEAD_ORIGIN</th>\n",
       "      <th>LEAD_SOURCE</th>\n",
       "      <th>DO_NOT_EMAIL</th>\n",
       "      <th>DO_NOT_CALL</th>\n",
       "      <th>CONVERTED</th>\n",
       "      <th>TOTALVISITS</th>\n",
       "      <th>TOTAL_TIME_SPENT_ON_WEBSITE</th>\n",
       "      <th>PAGE_VIEWS_PER_VISIT</th>\n",
       "      <th>...</th>\n",
       "      <th>GET_UPDATES_ON_DM_CONTENT</th>\n",
       "      <th>LEAD_PROFILE</th>\n",
       "      <th>CITY</th>\n",
       "      <th>ASYMMETRIQUE_ACTIVITY_INDEX</th>\n",
       "      <th>ASYMMETRIQUE_PROFILE_INDEX</th>\n",
       "      <th>ASYMMETRIQUE_ACTIVITY_SCORE</th>\n",
       "      <th>ASYMMETRIQUE_PROFILE_SCORE</th>\n",
       "      <th>I_AGREE_TO_PAY_THE_AMOUNT_THROUGH_CHEQUE</th>\n",
       "      <th>A_FREE_COPY_OF_MASTERING_THE_INTERVIEW</th>\n",
       "      <th>LAST_NOTABLE_ACTIVITY</th>\n",
       "    </tr>\n",
       "  </thead>\n",
       "  <tbody>\n",
       "    <tr>\n",
       "      <th>0</th>\n",
       "      <td>7927b2df-8bba-4d29-b9a2-b6e0beafe620</td>\n",
       "      <td>660737</td>\n",
       "      <td>API</td>\n",
       "      <td>Olark Chat</td>\n",
       "      <td>False</td>\n",
       "      <td>False</td>\n",
       "      <td>0</td>\n",
       "      <td>0.0</td>\n",
       "      <td>0</td>\n",
       "      <td>0.0</td>\n",
       "      <td>...</td>\n",
       "      <td>False</td>\n",
       "      <td>Select</td>\n",
       "      <td>Select</td>\n",
       "      <td>02.Medium</td>\n",
       "      <td>02.Medium</td>\n",
       "      <td>15.0</td>\n",
       "      <td>15.0</td>\n",
       "      <td>False</td>\n",
       "      <td>False</td>\n",
       "      <td>Modified</td>\n",
       "    </tr>\n",
       "    <tr>\n",
       "      <th>1</th>\n",
       "      <td>2a272436-5132-4136-86fa-dcc88c88f482</td>\n",
       "      <td>660728</td>\n",
       "      <td>API</td>\n",
       "      <td>Organic Search</td>\n",
       "      <td>False</td>\n",
       "      <td>False</td>\n",
       "      <td>0</td>\n",
       "      <td>5.0</td>\n",
       "      <td>674</td>\n",
       "      <td>2.5</td>\n",
       "      <td>...</td>\n",
       "      <td>False</td>\n",
       "      <td>Select</td>\n",
       "      <td>Select</td>\n",
       "      <td>02.Medium</td>\n",
       "      <td>02.Medium</td>\n",
       "      <td>15.0</td>\n",
       "      <td>15.0</td>\n",
       "      <td>False</td>\n",
       "      <td>False</td>\n",
       "      <td>Email Opened</td>\n",
       "    </tr>\n",
       "    <tr>\n",
       "      <th>2</th>\n",
       "      <td>8cc8c611-a219-4f35-ad23-fdfd2656bd8a</td>\n",
       "      <td>660727</td>\n",
       "      <td>Landing Page Submission</td>\n",
       "      <td>Direct Traffic</td>\n",
       "      <td>False</td>\n",
       "      <td>False</td>\n",
       "      <td>1</td>\n",
       "      <td>2.0</td>\n",
       "      <td>1532</td>\n",
       "      <td>2.0</td>\n",
       "      <td>...</td>\n",
       "      <td>False</td>\n",
       "      <td>Potential Lead</td>\n",
       "      <td>Mumbai</td>\n",
       "      <td>02.Medium</td>\n",
       "      <td>01.High</td>\n",
       "      <td>14.0</td>\n",
       "      <td>20.0</td>\n",
       "      <td>False</td>\n",
       "      <td>True</td>\n",
       "      <td>Email Opened</td>\n",
       "    </tr>\n",
       "    <tr>\n",
       "      <th>3</th>\n",
       "      <td>0cc2df48-7cf4-4e39-9de9-19797f9b38cc</td>\n",
       "      <td>660719</td>\n",
       "      <td>Landing Page Submission</td>\n",
       "      <td>Direct Traffic</td>\n",
       "      <td>False</td>\n",
       "      <td>False</td>\n",
       "      <td>0</td>\n",
       "      <td>1.0</td>\n",
       "      <td>305</td>\n",
       "      <td>1.0</td>\n",
       "      <td>...</td>\n",
       "      <td>False</td>\n",
       "      <td>Select</td>\n",
       "      <td>Mumbai</td>\n",
       "      <td>02.Medium</td>\n",
       "      <td>01.High</td>\n",
       "      <td>13.0</td>\n",
       "      <td>17.0</td>\n",
       "      <td>False</td>\n",
       "      <td>False</td>\n",
       "      <td>Modified</td>\n",
       "    </tr>\n",
       "    <tr>\n",
       "      <th>4</th>\n",
       "      <td>3256f628-e534-4826-9d63-4a8b88782852</td>\n",
       "      <td>660681</td>\n",
       "      <td>Landing Page Submission</td>\n",
       "      <td>Google</td>\n",
       "      <td>False</td>\n",
       "      <td>False</td>\n",
       "      <td>1</td>\n",
       "      <td>2.0</td>\n",
       "      <td>1428</td>\n",
       "      <td>1.0</td>\n",
       "      <td>...</td>\n",
       "      <td>False</td>\n",
       "      <td>Select</td>\n",
       "      <td>Mumbai</td>\n",
       "      <td>02.Medium</td>\n",
       "      <td>01.High</td>\n",
       "      <td>15.0</td>\n",
       "      <td>18.0</td>\n",
       "      <td>False</td>\n",
       "      <td>False</td>\n",
       "      <td>Modified</td>\n",
       "    </tr>\n",
       "  </tbody>\n",
       "</table>\n",
       "<p>5 rows × 37 columns</p>\n",
       "</div>"
      ],
      "text/plain": [
       "                            PROSPECT_ID  LEAD_NUMBER              LEAD_ORIGIN  \\\n",
       "0  7927b2df-8bba-4d29-b9a2-b6e0beafe620       660737                      API   \n",
       "1  2a272436-5132-4136-86fa-dcc88c88f482       660728                      API   \n",
       "2  8cc8c611-a219-4f35-ad23-fdfd2656bd8a       660727  Landing Page Submission   \n",
       "3  0cc2df48-7cf4-4e39-9de9-19797f9b38cc       660719  Landing Page Submission   \n",
       "4  3256f628-e534-4826-9d63-4a8b88782852       660681  Landing Page Submission   \n",
       "\n",
       "      LEAD_SOURCE  DO_NOT_EMAIL  DO_NOT_CALL  CONVERTED  TOTALVISITS  \\\n",
       "0      Olark Chat         False        False          0          0.0   \n",
       "1  Organic Search         False        False          0          5.0   \n",
       "2  Direct Traffic         False        False          1          2.0   \n",
       "3  Direct Traffic         False        False          0          1.0   \n",
       "4          Google         False        False          1          2.0   \n",
       "\n",
       "   TOTAL_TIME_SPENT_ON_WEBSITE  PAGE_VIEWS_PER_VISIT  ...  \\\n",
       "0                            0                   0.0  ...   \n",
       "1                          674                   2.5  ...   \n",
       "2                         1532                   2.0  ...   \n",
       "3                          305                   1.0  ...   \n",
       "4                         1428                   1.0  ...   \n",
       "\n",
       "  GET_UPDATES_ON_DM_CONTENT    LEAD_PROFILE    CITY  \\\n",
       "0                     False          Select  Select   \n",
       "1                     False          Select  Select   \n",
       "2                     False  Potential Lead  Mumbai   \n",
       "3                     False          Select  Mumbai   \n",
       "4                     False          Select  Mumbai   \n",
       "\n",
       "  ASYMMETRIQUE_ACTIVITY_INDEX ASYMMETRIQUE_PROFILE_INDEX  \\\n",
       "0                   02.Medium                  02.Medium   \n",
       "1                   02.Medium                  02.Medium   \n",
       "2                   02.Medium                    01.High   \n",
       "3                   02.Medium                    01.High   \n",
       "4                   02.Medium                    01.High   \n",
       "\n",
       "  ASYMMETRIQUE_ACTIVITY_SCORE  ASYMMETRIQUE_PROFILE_SCORE  \\\n",
       "0                        15.0                        15.0   \n",
       "1                        15.0                        15.0   \n",
       "2                        14.0                        20.0   \n",
       "3                        13.0                        17.0   \n",
       "4                        15.0                        18.0   \n",
       "\n",
       "   I_AGREE_TO_PAY_THE_AMOUNT_THROUGH_CHEQUE  \\\n",
       "0                                     False   \n",
       "1                                     False   \n",
       "2                                     False   \n",
       "3                                     False   \n",
       "4                                     False   \n",
       "\n",
       "   A_FREE_COPY_OF_MASTERING_THE_INTERVIEW  LAST_NOTABLE_ACTIVITY  \n",
       "0                                   False               Modified  \n",
       "1                                   False           Email Opened  \n",
       "2                                    True           Email Opened  \n",
       "3                                   False               Modified  \n",
       "4                                   False               Modified  \n",
       "\n",
       "[5 rows x 37 columns]"
      ]
     },
     "execution_count": 10,
     "metadata": {},
     "output_type": "execute_result"
    }
   ],
   "source": [
    "df.head()"
   ]
  },
  {
   "cell_type": "code",
   "execution_count": 11,
   "id": "244d68f4",
   "metadata": {},
   "outputs": [
    {
     "data": {
      "text/plain": [
       "9240"
      ]
     },
     "execution_count": 11,
     "metadata": {},
     "output_type": "execute_result"
    }
   ],
   "source": [
    "len(df)"
   ]
  },
  {
   "cell_type": "code",
   "execution_count": 12,
   "id": "84f4af6b",
   "metadata": {},
   "outputs": [
    {
     "data": {
      "text/plain": [
       "count    9240.000000\n",
       "mean      487.698268\n",
       "std       548.021466\n",
       "min         0.000000\n",
       "25%        12.000000\n",
       "50%       248.000000\n",
       "75%       936.000000\n",
       "max      2272.000000\n",
       "Name: TOTAL_TIME_SPENT_ON_WEBSITE, dtype: float64"
      ]
     },
     "execution_count": 12,
     "metadata": {},
     "output_type": "execute_result"
    }
   ],
   "source": [
    "df['TOTAL_TIME_SPENT_ON_WEBSITE'].describe()"
   ]
  },
  {
   "cell_type": "code",
   "execution_count": 13,
   "id": "e308f745",
   "metadata": {},
   "outputs": [
    {
     "data": {
      "text/plain": [
       "0.00       0.0\n",
       "0.25      12.0\n",
       "0.50     248.0\n",
       "0.75     936.0\n",
       "1.00    2272.0\n",
       "Name: TOTAL_TIME_SPENT_ON_WEBSITE, dtype: float64"
      ]
     },
     "execution_count": 13,
     "metadata": {},
     "output_type": "execute_result"
    }
   ],
   "source": [
    "quantile_list = [0, .25, .5, .75, 1.]\n",
    "quantiles = df['TOTAL_TIME_SPENT_ON_WEBSITE'].quantile(quantile_list)\n",
    "quantiles"
   ]
  },
  {
   "cell_type": "code",
   "execution_count": 17,
   "id": "eab1dd20",
   "metadata": {},
   "outputs": [],
   "source": [
    "df['TIME_ON_WEBSITE_QUANTILE_RANGE'] = pd.qcut(\n",
    "                                            df['TOTAL_TIME_SPENT_ON_WEBSITE'], \n",
    "                                            q=quantile_list)"
   ]
  },
  {
   "cell_type": "code",
   "execution_count": 19,
   "id": "59a52df9",
   "metadata": {},
   "outputs": [],
   "source": [
    "quantile_labels = ['1Q', '2Q', '3Q', '4Q']\n",
    "df['TIME_ON_WEBSITE_QUANTILE_LABELS'] = pd.qcut(\n",
    "                                            df['TOTAL_TIME_SPENT_ON_WEBSITE'], \n",
    "                                            q=quantile_list,       \n",
    "                                            labels=quantile_labels)"
   ]
  },
  {
   "cell_type": "code",
   "execution_count": 20,
   "id": "1416769c",
   "metadata": {},
   "outputs": [
    {
     "data": {
      "text/html": [
       "<div>\n",
       "<style scoped>\n",
       "    .dataframe tbody tr th:only-of-type {\n",
       "        vertical-align: middle;\n",
       "    }\n",
       "\n",
       "    .dataframe tbody tr th {\n",
       "        vertical-align: top;\n",
       "    }\n",
       "\n",
       "    .dataframe thead th {\n",
       "        text-align: right;\n",
       "    }\n",
       "</style>\n",
       "<table border=\"1\" class=\"dataframe\">\n",
       "  <thead>\n",
       "    <tr style=\"text-align: right;\">\n",
       "      <th></th>\n",
       "      <th>TOTAL_TIME_SPENT_ON_WEBSITE</th>\n",
       "      <th>TIME_ON_WEBSITE_QUANTILE_RANGE</th>\n",
       "      <th>TIME_ON_WEBSITE_QUANTILE_LABELS</th>\n",
       "    </tr>\n",
       "  </thead>\n",
       "  <tbody>\n",
       "    <tr>\n",
       "      <th>0</th>\n",
       "      <td>0</td>\n",
       "      <td>(-0.001, 12.0]</td>\n",
       "      <td>1Q</td>\n",
       "    </tr>\n",
       "    <tr>\n",
       "      <th>1</th>\n",
       "      <td>674</td>\n",
       "      <td>(248.0, 936.0]</td>\n",
       "      <td>3Q</td>\n",
       "    </tr>\n",
       "    <tr>\n",
       "      <th>2</th>\n",
       "      <td>1532</td>\n",
       "      <td>(936.0, 2272.0]</td>\n",
       "      <td>4Q</td>\n",
       "    </tr>\n",
       "    <tr>\n",
       "      <th>3</th>\n",
       "      <td>305</td>\n",
       "      <td>(248.0, 936.0]</td>\n",
       "      <td>3Q</td>\n",
       "    </tr>\n",
       "    <tr>\n",
       "      <th>4</th>\n",
       "      <td>1428</td>\n",
       "      <td>(936.0, 2272.0]</td>\n",
       "      <td>4Q</td>\n",
       "    </tr>\n",
       "  </tbody>\n",
       "</table>\n",
       "</div>"
      ],
      "text/plain": [
       "   TOTAL_TIME_SPENT_ON_WEBSITE TIME_ON_WEBSITE_QUANTILE_RANGE  \\\n",
       "0                            0                 (-0.001, 12.0]   \n",
       "1                          674                 (248.0, 936.0]   \n",
       "2                         1532                (936.0, 2272.0]   \n",
       "3                          305                 (248.0, 936.0]   \n",
       "4                         1428                (936.0, 2272.0]   \n",
       "\n",
       "  TIME_ON_WEBSITE_QUANTILE_LABELS  \n",
       "0                              1Q  \n",
       "1                              3Q  \n",
       "2                              4Q  \n",
       "3                              3Q  \n",
       "4                              4Q  "
      ]
     },
     "execution_count": 20,
     "metadata": {},
     "output_type": "execute_result"
    }
   ],
   "source": [
    "df[['TOTAL_TIME_SPENT_ON_WEBSITE','TIME_ON_WEBSITE_QUANTILE_RANGE','TIME_ON_WEBSITE_QUANTILE_LABELS']].head()"
   ]
  },
  {
   "cell_type": "code",
   "execution_count": 27,
   "id": "23a4843f",
   "metadata": {},
   "outputs": [],
   "source": [
    "df = df.drop('TIME_ON_WEBSITE_QUANTILE_RANGE', axis=1)"
   ]
  },
  {
   "cell_type": "code",
   "execution_count": 29,
   "id": "01e42b2b",
   "metadata": {},
   "outputs": [
    {
     "data": {
      "text/html": [
       "<div>\n",
       "<style scoped>\n",
       "    .dataframe tbody tr th:only-of-type {\n",
       "        vertical-align: middle;\n",
       "    }\n",
       "\n",
       "    .dataframe tbody tr th {\n",
       "        vertical-align: top;\n",
       "    }\n",
       "\n",
       "    .dataframe thead th {\n",
       "        text-align: right;\n",
       "    }\n",
       "</style>\n",
       "<table border=\"1\" class=\"dataframe\">\n",
       "  <thead>\n",
       "    <tr style=\"text-align: right;\">\n",
       "      <th></th>\n",
       "      <th>TOTAL_TIME_SPENT_ON_WEBSITE</th>\n",
       "      <th>TIME_ON_WEBSITE_QUANTILE_LABELS</th>\n",
       "    </tr>\n",
       "  </thead>\n",
       "  <tbody>\n",
       "    <tr>\n",
       "      <th>0</th>\n",
       "      <td>0</td>\n",
       "      <td>1Q</td>\n",
       "    </tr>\n",
       "    <tr>\n",
       "      <th>1</th>\n",
       "      <td>674</td>\n",
       "      <td>3Q</td>\n",
       "    </tr>\n",
       "    <tr>\n",
       "      <th>2</th>\n",
       "      <td>1532</td>\n",
       "      <td>4Q</td>\n",
       "    </tr>\n",
       "    <tr>\n",
       "      <th>3</th>\n",
       "      <td>305</td>\n",
       "      <td>3Q</td>\n",
       "    </tr>\n",
       "    <tr>\n",
       "      <th>4</th>\n",
       "      <td>1428</td>\n",
       "      <td>4Q</td>\n",
       "    </tr>\n",
       "  </tbody>\n",
       "</table>\n",
       "</div>"
      ],
      "text/plain": [
       "   TOTAL_TIME_SPENT_ON_WEBSITE TIME_ON_WEBSITE_QUANTILE_LABELS\n",
       "0                            0                              1Q\n",
       "1                          674                              3Q\n",
       "2                         1532                              4Q\n",
       "3                          305                              3Q\n",
       "4                         1428                              4Q"
      ]
     },
     "execution_count": 29,
     "metadata": {},
     "output_type": "execute_result"
    }
   ],
   "source": [
    "df[['TOTAL_TIME_SPENT_ON_WEBSITE','TIME_ON_WEBSITE_QUANTILE_LABELS']].head()"
   ]
  },
  {
   "cell_type": "code",
   "execution_count": 30,
   "id": "831aef85",
   "metadata": {},
   "outputs": [],
   "source": [
    "#df.write.mode(\"overwrite\").save_as_table(\"LEAD_SCORING\")"
   ]
  },
  {
   "cell_type": "code",
   "execution_count": 31,
   "id": "3a7fe2ca",
   "metadata": {},
   "outputs": [],
   "source": [
    "#session.create_dataframe?"
   ]
  },
  {
   "cell_type": "code",
   "execution_count": 33,
   "id": "fc0700c2",
   "metadata": {},
   "outputs": [],
   "source": [
    "foo_tbl = session.create_dataframe(df)"
   ]
  },
  {
   "cell_type": "code",
   "execution_count": 35,
   "id": "4a1b1a97",
   "metadata": {},
   "outputs": [],
   "source": [
    "foo_tbl.write.mode(\"overwrite\").save_as_table(\"LEAD_SCORING_Q\")"
   ]
  },
  {
   "cell_type": "code",
   "execution_count": 36,
   "id": "b1d32f32",
   "metadata": {},
   "outputs": [],
   "source": [
    "new_leads = session.table(\"LEAD_SCORING_Q\")"
   ]
  },
  {
   "cell_type": "code",
   "execution_count": 40,
   "id": "4e0d7713",
   "metadata": {},
   "outputs": [
    {
     "data": {
      "text/plain": [
       "<snowflake.snowpark.dataframe.DataFrame at 0x7ff0474d42e0>"
      ]
     },
     "execution_count": 40,
     "metadata": {},
     "output_type": "execute_result"
    }
   ],
   "source": [
    "new_leads[new_leads['TIME_ON_WEBSITE_QUANTILE_LABELS']]"
   ]
  },
  {
   "cell_type": "code",
   "execution_count": 41,
   "id": "3b7c91e7",
   "metadata": {},
   "outputs": [],
   "source": [
    "from snowflake.snowpark.functions import col"
   ]
  },
  {
   "cell_type": "code",
   "execution_count": 42,
   "id": "36109d78",
   "metadata": {},
   "outputs": [],
   "source": [
    "result = session.table(\"LEAD_SCORING_Q\").filter(col(\"TIME_ON_WEBSITE_QUANTILE_LABELS\") == '1Q')"
   ]
  },
  {
   "cell_type": "code",
   "execution_count": 44,
   "id": "6936d1f3",
   "metadata": {},
   "outputs": [
    {
     "data": {
      "text/html": [
       "<div>\n",
       "<style scoped>\n",
       "    .dataframe tbody tr th:only-of-type {\n",
       "        vertical-align: middle;\n",
       "    }\n",
       "\n",
       "    .dataframe tbody tr th {\n",
       "        vertical-align: top;\n",
       "    }\n",
       "\n",
       "    .dataframe thead th {\n",
       "        text-align: right;\n",
       "    }\n",
       "</style>\n",
       "<table border=\"1\" class=\"dataframe\">\n",
       "  <thead>\n",
       "    <tr style=\"text-align: right;\">\n",
       "      <th></th>\n",
       "      <th>PROSPECT_ID</th>\n",
       "      <th>LEAD_NUMBER</th>\n",
       "      <th>LEAD_ORIGIN</th>\n",
       "      <th>LEAD_SOURCE</th>\n",
       "      <th>DO_NOT_EMAIL</th>\n",
       "      <th>DO_NOT_CALL</th>\n",
       "      <th>CONVERTED</th>\n",
       "      <th>TOTALVISITS</th>\n",
       "      <th>TOTAL_TIME_SPENT_ON_WEBSITE</th>\n",
       "      <th>PAGE_VIEWS_PER_VISIT</th>\n",
       "      <th>...</th>\n",
       "      <th>LEAD_PROFILE</th>\n",
       "      <th>CITY</th>\n",
       "      <th>ASYMMETRIQUE_ACTIVITY_INDEX</th>\n",
       "      <th>ASYMMETRIQUE_PROFILE_INDEX</th>\n",
       "      <th>ASYMMETRIQUE_ACTIVITY_SCORE</th>\n",
       "      <th>ASYMMETRIQUE_PROFILE_SCORE</th>\n",
       "      <th>I_AGREE_TO_PAY_THE_AMOUNT_THROUGH_CHEQUE</th>\n",
       "      <th>A_FREE_COPY_OF_MASTERING_THE_INTERVIEW</th>\n",
       "      <th>LAST_NOTABLE_ACTIVITY</th>\n",
       "      <th>TIME_ON_WEBSITE_QUANTILE_LABELS</th>\n",
       "    </tr>\n",
       "  </thead>\n",
       "  <tbody>\n",
       "    <tr>\n",
       "      <th>0</th>\n",
       "      <td>7927b2df-8bba-4d29-b9a2-b6e0beafe620</td>\n",
       "      <td>660737</td>\n",
       "      <td>API</td>\n",
       "      <td>Olark Chat</td>\n",
       "      <td>False</td>\n",
       "      <td>False</td>\n",
       "      <td>0</td>\n",
       "      <td>0.0</td>\n",
       "      <td>0</td>\n",
       "      <td>0.0</td>\n",
       "      <td>...</td>\n",
       "      <td>Select</td>\n",
       "      <td>Select</td>\n",
       "      <td>02.Medium</td>\n",
       "      <td>02.Medium</td>\n",
       "      <td>15.0</td>\n",
       "      <td>15.0</td>\n",
       "      <td>False</td>\n",
       "      <td>False</td>\n",
       "      <td>Modified</td>\n",
       "      <td>1Q</td>\n",
       "    </tr>\n",
       "    <tr>\n",
       "      <th>1</th>\n",
       "      <td>2058ef08-2858-443e-a01f-a9237db2f5ce</td>\n",
       "      <td>660680</td>\n",
       "      <td>API</td>\n",
       "      <td>Olark Chat</td>\n",
       "      <td>False</td>\n",
       "      <td>False</td>\n",
       "      <td>0</td>\n",
       "      <td>0.0</td>\n",
       "      <td>0</td>\n",
       "      <td>0.0</td>\n",
       "      <td>...</td>\n",
       "      <td>None</td>\n",
       "      <td>None</td>\n",
       "      <td>01.High</td>\n",
       "      <td>02.Medium</td>\n",
       "      <td>17.0</td>\n",
       "      <td>15.0</td>\n",
       "      <td>False</td>\n",
       "      <td>False</td>\n",
       "      <td>Modified</td>\n",
       "      <td>1Q</td>\n",
       "    </tr>\n",
       "    <tr>\n",
       "      <th>2</th>\n",
       "      <td>20ef72a2-fb3b-45e0-924e-551c5fa59095</td>\n",
       "      <td>660664</td>\n",
       "      <td>API</td>\n",
       "      <td>Olark Chat</td>\n",
       "      <td>False</td>\n",
       "      <td>False</td>\n",
       "      <td>0</td>\n",
       "      <td>0.0</td>\n",
       "      <td>0</td>\n",
       "      <td>0.0</td>\n",
       "      <td>...</td>\n",
       "      <td>None</td>\n",
       "      <td>None</td>\n",
       "      <td>02.Medium</td>\n",
       "      <td>02.Medium</td>\n",
       "      <td>15.0</td>\n",
       "      <td>15.0</td>\n",
       "      <td>False</td>\n",
       "      <td>False</td>\n",
       "      <td>Modified</td>\n",
       "      <td>1Q</td>\n",
       "    </tr>\n",
       "    <tr>\n",
       "      <th>3</th>\n",
       "      <td>3abb7c77-1634-4083-9a9f-861068220611</td>\n",
       "      <td>660540</td>\n",
       "      <td>API</td>\n",
       "      <td>Olark Chat</td>\n",
       "      <td>False</td>\n",
       "      <td>False</td>\n",
       "      <td>0</td>\n",
       "      <td>0.0</td>\n",
       "      <td>0</td>\n",
       "      <td>0.0</td>\n",
       "      <td>...</td>\n",
       "      <td>None</td>\n",
       "      <td>None</td>\n",
       "      <td>01.High</td>\n",
       "      <td>02.Medium</td>\n",
       "      <td>17.0</td>\n",
       "      <td>15.0</td>\n",
       "      <td>False</td>\n",
       "      <td>False</td>\n",
       "      <td>Modified</td>\n",
       "      <td>1Q</td>\n",
       "    </tr>\n",
       "    <tr>\n",
       "      <th>4</th>\n",
       "      <td>3f04fd93-2884-45f6-a4fc-f3b6f234554b</td>\n",
       "      <td>660153</td>\n",
       "      <td>API</td>\n",
       "      <td>Olark Chat</td>\n",
       "      <td>False</td>\n",
       "      <td>False</td>\n",
       "      <td>0</td>\n",
       "      <td>0.0</td>\n",
       "      <td>0</td>\n",
       "      <td>0.0</td>\n",
       "      <td>...</td>\n",
       "      <td>None</td>\n",
       "      <td>None</td>\n",
       "      <td>01.High</td>\n",
       "      <td>02.Medium</td>\n",
       "      <td>17.0</td>\n",
       "      <td>15.0</td>\n",
       "      <td>False</td>\n",
       "      <td>False</td>\n",
       "      <td>Modified</td>\n",
       "      <td>1Q</td>\n",
       "    </tr>\n",
       "  </tbody>\n",
       "</table>\n",
       "<p>5 rows × 38 columns</p>\n",
       "</div>"
      ],
      "text/plain": [
       "                            PROSPECT_ID  LEAD_NUMBER LEAD_ORIGIN LEAD_SOURCE  \\\n",
       "0  7927b2df-8bba-4d29-b9a2-b6e0beafe620       660737         API  Olark Chat   \n",
       "1  2058ef08-2858-443e-a01f-a9237db2f5ce       660680         API  Olark Chat   \n",
       "2  20ef72a2-fb3b-45e0-924e-551c5fa59095       660664         API  Olark Chat   \n",
       "3  3abb7c77-1634-4083-9a9f-861068220611       660540         API  Olark Chat   \n",
       "4  3f04fd93-2884-45f6-a4fc-f3b6f234554b       660153         API  Olark Chat   \n",
       "\n",
       "   DO_NOT_EMAIL  DO_NOT_CALL  CONVERTED  TOTALVISITS  \\\n",
       "0         False        False          0          0.0   \n",
       "1         False        False          0          0.0   \n",
       "2         False        False          0          0.0   \n",
       "3         False        False          0          0.0   \n",
       "4         False        False          0          0.0   \n",
       "\n",
       "   TOTAL_TIME_SPENT_ON_WEBSITE  PAGE_VIEWS_PER_VISIT  ... LEAD_PROFILE  \\\n",
       "0                            0                   0.0  ...       Select   \n",
       "1                            0                   0.0  ...         None   \n",
       "2                            0                   0.0  ...         None   \n",
       "3                            0                   0.0  ...         None   \n",
       "4                            0                   0.0  ...         None   \n",
       "\n",
       "     CITY ASYMMETRIQUE_ACTIVITY_INDEX ASYMMETRIQUE_PROFILE_INDEX  \\\n",
       "0  Select                   02.Medium                  02.Medium   \n",
       "1    None                     01.High                  02.Medium   \n",
       "2    None                   02.Medium                  02.Medium   \n",
       "3    None                     01.High                  02.Medium   \n",
       "4    None                     01.High                  02.Medium   \n",
       "\n",
       "  ASYMMETRIQUE_ACTIVITY_SCORE ASYMMETRIQUE_PROFILE_SCORE  \\\n",
       "0                        15.0                       15.0   \n",
       "1                        17.0                       15.0   \n",
       "2                        15.0                       15.0   \n",
       "3                        17.0                       15.0   \n",
       "4                        17.0                       15.0   \n",
       "\n",
       "   I_AGREE_TO_PAY_THE_AMOUNT_THROUGH_CHEQUE  \\\n",
       "0                                     False   \n",
       "1                                     False   \n",
       "2                                     False   \n",
       "3                                     False   \n",
       "4                                     False   \n",
       "\n",
       "   A_FREE_COPY_OF_MASTERING_THE_INTERVIEW  LAST_NOTABLE_ACTIVITY  \\\n",
       "0                                   False               Modified   \n",
       "1                                   False               Modified   \n",
       "2                                   False               Modified   \n",
       "3                                   False               Modified   \n",
       "4                                   False               Modified   \n",
       "\n",
       "   TIME_ON_WEBSITE_QUANTILE_LABELS  \n",
       "0                               1Q  \n",
       "1                               1Q  \n",
       "2                               1Q  \n",
       "3                               1Q  \n",
       "4                               1Q  \n",
       "\n",
       "[5 rows x 38 columns]"
      ]
     },
     "execution_count": 44,
     "metadata": {},
     "output_type": "execute_result"
    }
   ],
   "source": [
    "result_df = result.to_pandas()\n",
    "result_df.head()"
   ]
  },
  {
   "cell_type": "code",
   "execution_count": null,
   "id": "7799bb88",
   "metadata": {},
   "outputs": [],
   "source": []
  }
 ],
 "metadata": {
  "kernelspec": {
   "display_name": "conda_python3",
   "language": "python",
   "name": "conda_python3"
  },
  "language_info": {
   "codemirror_mode": {
    "name": "ipython",
    "version": 3
   },
   "file_extension": ".py",
   "mimetype": "text/x-python",
   "name": "python",
   "nbconvert_exporter": "python",
   "pygments_lexer": "ipython3",
   "version": "3.8.12"
  }
 },
 "nbformat": 4,
 "nbformat_minor": 5
}
