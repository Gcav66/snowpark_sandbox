{
 "cells": [
  {
   "cell_type": "code",
   "execution_count": 1,
   "id": "00040126-3f4d-4b6d-9db4-8ec2ab9272b2",
   "metadata": {},
   "outputs": [],
   "source": [
    "from snowflake.snowpark import Session\n",
    "from dotenv import load_dotenv"
   ]
  },
  {
   "cell_type": "code",
   "execution_count": 2,
   "id": "f72b4375-885a-4e9a-ba75-4a2540d1d724",
   "metadata": {},
   "outputs": [
    {
     "data": {
      "text/plain": [
       "True"
      ]
     },
     "execution_count": 2,
     "metadata": {},
     "output_type": "execute_result"
    }
   ],
   "source": [
    "load_dotenv()"
   ]
  },
  {
   "cell_type": "code",
   "execution_count": 3,
   "id": "9047a0d5-4501-48f9-89db-8464f07a8a6d",
   "metadata": {},
   "outputs": [],
   "source": [
    "import os\n",
    "#print(os.environ[\"snowflake_account\"])"
   ]
  },
  {
   "cell_type": "code",
   "execution_count": 4,
   "id": "41d5f713-217c-4907-ac63-5c5ef5d50840",
   "metadata": {},
   "outputs": [],
   "source": [
    "connection_parameters = {\n",
    "    \"account\": os.environ[\"snowflake_account\"],\n",
    "    \"user\": os.environ[\"snowflake_user\"],\n",
    "    \"password\": os.environ[\"snowflake_password\"],\n",
    "    \"role\": os.environ[\"snowflake_user_role\"],\n",
    "    \"warehouse\": os.environ[\"snowflake_warehouse\"],\n",
    "    \"database\": os.environ[\"snowflake_database\"],\n",
    "    \"schema\": os.environ[\"snowflake_schema\"]\n",
    "}"
   ]
  },
  {
   "cell_type": "code",
   "execution_count": 5,
   "id": "807c1da0-2cc4-4dee-80d7-82eb6ffee747",
   "metadata": {},
   "outputs": [],
   "source": [
    "session = Session.builder.configs(connection_parameters).create()"
   ]
  },
  {
   "cell_type": "code",
   "execution_count": 6,
   "id": "ecda7631-9869-4fa2-9dfd-2edd9be79e0c",
   "metadata": {},
   "outputs": [
    {
     "name": "stdout",
     "output_type": "stream",
     "text": [
      "[Row(CURRENT_WAREHOUSE()='COMPUTE_WH', CURRENT_DATABASE()='DWH', CURRENT_SCHEMA()='PUBLIC')]\n"
     ]
    }
   ],
   "source": [
    "print(session.sql(\"select current_warehouse(), current_database(), current_schema()\").collect())"
   ]
  },
  {
   "cell_type": "code",
   "execution_count": 7,
   "id": "6b954499-bdba-4d9c-add0-b1e6fdd278d4",
   "metadata": {},
   "outputs": [],
   "source": [
    "session.close()"
   ]
  },
  {
   "cell_type": "code",
   "execution_count": null,
   "id": "f09793cf-fa85-4412-9676-410d4d876908",
   "metadata": {},
   "outputs": [],
   "source": []
  }
 ],
 "metadata": {
  "kernelspec": {
   "display_name": "Python 3 (ipykernel)",
   "language": "python",
   "name": "python3"
  },
  "language_info": {
   "codemirror_mode": {
    "name": "ipython",
    "version": 3
   },
   "file_extension": ".py",
   "mimetype": "text/x-python",
   "name": "python",
   "nbconvert_exporter": "python",
   "pygments_lexer": "ipython3",
   "version": "3.8.13"
  }
 },
 "nbformat": 4,
 "nbformat_minor": 5
}
